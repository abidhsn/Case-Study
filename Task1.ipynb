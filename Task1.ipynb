{
 "cells": [
  {
   "cell_type": "markdown",
   "id": "143053e0-24ec-4f8d-b8cd-d134926e78ff",
   "metadata": {},
   "source": [
    "**Task 1**"
   ]
  },
  {
   "cell_type": "markdown",
   "id": "4fc8aca1-6588-4878-b4dd-6f130082c558",
   "metadata": {},
   "source": [
    "**1**\n",
    "\n",
    "I would approach this problem by defining the functional as well as non-functional requirements. \n",
    "Within functional requirements we have to define APIs. Non-functional requirements that need to be defined include scalability, maintainability and testability.\n",
    "\n",
    "We need to design a notification service that at the minimum will support the following three core APIs: topic creation, publish message to a topic and subscribe to a topic. The first one ensures that a named resource is created where messages are sent; topics act as a storage repo for messages from a publisher, the second one allows for messages to be sent to topics and the third one allows for messages to be sent to subscribers; every subsciber for a topic receives a copy of a message from the topic. \n",
    "\n",
    "Defining non-functional requirements is another critical aspect of the problem. We may want to have a notification application that supports a large number of topics, subscribers and publishers. This is scalability. We will also want the application to be highly performant so that subscribers receive messages in a timely fashion. The system should, in addition, be able to survive network failures. \n",
    "\n",
    "One can roughly define a high-level architecture for the application but it is still a challenge to specify which technologies to use. In general the following components will be essential: a frontend service, a metadata database, metadatabase service, a temporary storage database for messages, a sender."
   ]
  },
  {
   "cell_type": "markdown",
   "id": "9f317f45-3974-4dba-a0db-33cb70d5755a",
   "metadata": {},
   "source": [
    "**2**"
   ]
  },
  {
   "cell_type": "markdown",
   "id": "fbbea4c6-0149-474c-bd69-ed59f828baca",
   "metadata": {},
   "source": [
    "\n",
    "\n",
    "Data will be collected by using a number of APIs. For weather, for example, we can use https://www.tomorrow.io/weather-api/, for political news and updates we can use https://newsapi.org/s/google-news-api. Another example is Perigon smarter news API https://www.goperigon.com/data-solutions/use-cases/risk-threat-detection?utm_source=google&utm_medium=paid_search&utm_campaign=news-api-sitelink-ext&gclid=Cj0KCQiA95aRBhCsARIsAC2xvfySv7LWy9ImdBWPAguhSJ4qEkZJKZrzR5UNxwPmnLjfOH614qXvWNgaAuFaEALw_wcB. \n",
    "Data can also be collected from web crawlers and social media.\n"
   ]
  },
  {
   "cell_type": "markdown",
   "id": "81c017de-91b5-4625-a879-ad5330133646",
   "metadata": {},
   "source": [
    "**3**"
   ]
  },
  {
   "cell_type": "markdown",
   "id": "db3beb73-6145-4df5-bd9e-b6d029f6789f",
   "metadata": {},
   "source": [
    "\n",
    "Data ingestion will involve extracting structured as well as unstructured data to a data store where it can stored and analyzed systematically. \n",
    "\n",
    "A number of technologies can be used for data ingestion including Apache Kafka and Google pub/sub on Google Cloud Platform."
   ]
  },
  {
   "cell_type": "markdown",
   "id": "ccd8fa95-26e1-46d2-b58e-90b43b32f67b",
   "metadata": {},
   "source": [
    "**4**"
   ]
  },
  {
   "cell_type": "markdown",
   "id": "e4dc6aef-50bc-4bd7-b094-c4dc4b55dd0d",
   "metadata": {},
   "source": [
    "\n",
    "\n",
    "A client will call the create topic and subscribe APIs and we will store the information returned to a temporary database which will be NoSQL for scalability and speed. A high level overview is shown below: \n",
    "\n",
    "![architecture](architecture1.png)\n",
    "\n",
    "For messaging and buffering Apache Kafka can be used. \n",
    "\n",
    "For a NoSQL database like MongoDB, the following data schema can be used: \n",
    "\n",
    "Notification\n",
    "{\n",
    "    id: int;\n",
    "    notification_id;\n",
    "    unique_notification_id: UUID;\n",
    "    user_id int;\n",
    "    type: string;\n",
    "    content: string;\n",
    "    read: boolean;\n",
    "    created_at: Date;\n",
    "    last_updated: Date;\n",
    "}\n",
    "\n",
    "Additional parameters can be added like news_subtheme etc. "
   ]
  },
  {
   "cell_type": "markdown",
   "id": "79cd6bd5-379f-40ce-a240-08f3697ec221",
   "metadata": {},
   "source": [
    "**5**"
   ]
  },
  {
   "cell_type": "markdown",
   "id": "d4086fce-c77f-48a5-969d-035c8302fc13",
   "metadata": {},
   "source": [
    "\n",
    "\n",
    "We can build real-time streaming pipelines or batch processing pipelines running on a schedule. "
   ]
  },
  {
   "cell_type": "markdown",
   "id": "83890cf9-0170-49ac-871b-db1f98bc4068",
   "metadata": {},
   "source": [
    "**6**"
   ]
  },
  {
   "cell_type": "markdown",
   "id": "e7036116-34ed-4c64-bf4e-b4b0183f5eed",
   "metadata": {},
   "source": [
    "\n",
    "Streaming data pipelines have the advantage of speed and data we receive is fully upto date. There are also fewer internal API calls that are made. Log streaming is required in this case. For batch processing, the data is not exactly upto date.\n",
    "In addition, batch jobs will require a full database scan.\n",
    "User’s time zone needs to be taken into account for receiving notifications. Frequency of sending notifications needs to adjusted. Important to skip duplicate notifcations.\n",
    "\n",
    "\n",
    "\n",
    "\n"
   ]
  },
  {
   "cell_type": "markdown",
   "id": "9b0b5b1d-737b-4eaf-9cad-22544416f58b",
   "metadata": {},
   "source": [
    "**7**"
   ]
  },
  {
   "cell_type": "markdown",
   "id": "cbd6774f-9290-4353-9fd4-32254e01798b",
   "metadata": {},
   "source": [
    "\n",
    "Metadata service acts as a caching layer between metadatabase and the rest of the components. So we need to get topic metadata from cache. \n",
    "\n",
    "To deal with risk notifications overload we will also have to actively avoid duplicate notifications. "
   ]
  },
  {
   "cell_type": "code",
   "execution_count": null,
   "id": "584198e4-ffbe-4fe4-8ca2-e8a4436cabc2",
   "metadata": {},
   "outputs": [],
   "source": []
  },
  {
   "cell_type": "code",
   "execution_count": null,
   "id": "0488c8da-b714-4cec-8880-06e4252664e8",
   "metadata": {},
   "outputs": [],
   "source": []
  }
 ],
 "metadata": {
  "kernelspec": {
   "display_name": "Python 3",
   "language": "python",
   "name": "python3"
  },
  "language_info": {
   "codemirror_mode": {
    "name": "ipython",
    "version": 3
   },
   "file_extension": ".py",
   "mimetype": "text/x-python",
   "name": "python",
   "nbconvert_exporter": "python",
   "pygments_lexer": "ipython3",
   "version": "3.8.8"
  }
 },
 "nbformat": 4,
 "nbformat_minor": 5
}
